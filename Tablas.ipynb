{
  "nbformat": 4,
  "nbformat_minor": 0,
  "metadata": {
    "colab": {
      "name": "Tablas.ipynb",
      "provenance": []
    },
    "kernelspec": {
      "name": "python3",
      "display_name": "Python 3"
    },
    "language_info": {
      "name": "python"
    }
  },
  "cells": [
    {
      "cell_type": "code",
      "execution_count": null,
      "metadata": {
        "id": "-Dd7E-0PocwY"
      },
      "outputs": [],
      "source": [
        "u=[]\n",
        "s=int(input('ingresa la tabla desea ver:'))\n",
        "for i in range(0,11):\n",
        "  Tabla=s*(i+1)\n",
        "  u.append(Tabla)\n",
        "  print(s, \"*\", (i+1), \"=\", u[i])\n"
      ]
    }
  ]
}